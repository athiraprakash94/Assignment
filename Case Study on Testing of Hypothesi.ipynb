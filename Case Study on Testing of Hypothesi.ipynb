{
 "cells": [
  {
   "cell_type": "markdown",
   "id": "bf1f5497",
   "metadata": {},
   "source": [
    "### Case Study on Testing of Hypothesis\n",
    "A company started to invest in digital marketing as a new way of their product promotions.For that they collected data and decided to carry out a study on it.\n",
    "\n",
    "   ● The company wishes to clarify whether there is any increase in sales after stepping into digital marketing.\n",
    "\n",
    "   ● The company needs to check whether there is any dependency between the features “Region” and “Manager”.\n",
    "      Help the company to carry out their study with the help of data provided. "
   ]
  },
  {
   "cell_type": "markdown",
   "id": "fb8e333b",
   "metadata": {},
   "source": [
    "### Importing the required Libraries into the IDE."
   ]
  },
  {
   "cell_type": "code",
   "execution_count": 1,
   "id": "1b397a72",
   "metadata": {},
   "outputs": [],
   "source": [
    "import numpy as np\n",
    "import pandas as pd\n",
    "import matplotlib.pyplot as plt\n",
    "import seaborn as sns\n",
    "import scipy.stats as stats\n",
    "from scipy.stats import ttest_ind\n",
    "from scipy.stats import chi2_contingency"
   ]
  },
  {
   "cell_type": "markdown",
   "id": "15a34279",
   "metadata": {},
   "source": [
    "### Loading the Data set :"
   ]
  },
  {
   "cell_type": "code",
   "execution_count": 2,
   "id": "67e7ed3f",
   "metadata": {},
   "outputs": [
    {
     "data": {
      "text/html": [
       "<div>\n",
       "<style scoped>\n",
       "    .dataframe tbody tr th:only-of-type {\n",
       "        vertical-align: middle;\n",
       "    }\n",
       "\n",
       "    .dataframe tbody tr th {\n",
       "        vertical-align: top;\n",
       "    }\n",
       "\n",
       "    .dataframe thead th {\n",
       "        text-align: right;\n",
       "    }\n",
       "</style>\n",
       "<table border=\"1\" class=\"dataframe\">\n",
       "  <thead>\n",
       "    <tr style=\"text-align: right;\">\n",
       "      <th></th>\n",
       "      <th>Month</th>\n",
       "      <th>Region</th>\n",
       "      <th>Manager</th>\n",
       "      <th>Sales_before_digital_add(in $)</th>\n",
       "      <th>Sales_After_digital_add(in $)</th>\n",
       "    </tr>\n",
       "  </thead>\n",
       "  <tbody>\n",
       "    <tr>\n",
       "      <th>0</th>\n",
       "      <td>Month-1</td>\n",
       "      <td>Region - A</td>\n",
       "      <td>Manager - A</td>\n",
       "      <td>132921</td>\n",
       "      <td>270390</td>\n",
       "    </tr>\n",
       "    <tr>\n",
       "      <th>1</th>\n",
       "      <td>Month-2</td>\n",
       "      <td>Region - A</td>\n",
       "      <td>Manager - C</td>\n",
       "      <td>149559</td>\n",
       "      <td>223334</td>\n",
       "    </tr>\n",
       "    <tr>\n",
       "      <th>2</th>\n",
       "      <td>Month-3</td>\n",
       "      <td>Region - B</td>\n",
       "      <td>Manager - A</td>\n",
       "      <td>146278</td>\n",
       "      <td>244243</td>\n",
       "    </tr>\n",
       "    <tr>\n",
       "      <th>3</th>\n",
       "      <td>Month-4</td>\n",
       "      <td>Region - B</td>\n",
       "      <td>Manager - B</td>\n",
       "      <td>152167</td>\n",
       "      <td>231808</td>\n",
       "    </tr>\n",
       "    <tr>\n",
       "      <th>4</th>\n",
       "      <td>Month-5</td>\n",
       "      <td>Region - C</td>\n",
       "      <td>Manager - B</td>\n",
       "      <td>159525</td>\n",
       "      <td>258402</td>\n",
       "    </tr>\n",
       "  </tbody>\n",
       "</table>\n",
       "</div>"
      ],
      "text/plain": [
       "     Month      Region      Manager  Sales_before_digital_add(in $)  \\\n",
       "0  Month-1  Region - A  Manager - A                          132921   \n",
       "1  Month-2  Region - A  Manager - C                          149559   \n",
       "2  Month-3  Region - B  Manager - A                          146278   \n",
       "3  Month-4  Region - B  Manager - B                          152167   \n",
       "4  Month-5  Region - C  Manager - B                          159525   \n",
       "\n",
       "   Sales_After_digital_add(in $)  \n",
       "0                         270390  \n",
       "1                         223334  \n",
       "2                         244243  \n",
       "3                         231808  \n",
       "4                         258402  "
      ]
     },
     "execution_count": 2,
     "metadata": {},
     "output_type": "execute_result"
    }
   ],
   "source": [
    "sales_data = pd.read_csv(r\"D:\\DSA\\data\\Sales_add.csv\")\n",
    "sales_data.head()"
   ]
  },
  {
   "cell_type": "code",
   "execution_count": 3,
   "id": "c7f033ad",
   "metadata": {},
   "outputs": [
    {
     "data": {
      "text/plain": [
       "(22, 5)"
      ]
     },
     "execution_count": 3,
     "metadata": {},
     "output_type": "execute_result"
    }
   ],
   "source": [
    "sales_data.shape"
   ]
  },
  {
   "cell_type": "code",
   "execution_count": 5,
   "id": "7fdbddd4",
   "metadata": {},
   "outputs": [
    {
     "data": {
      "text/html": [
       "<div>\n",
       "<style scoped>\n",
       "    .dataframe tbody tr th:only-of-type {\n",
       "        vertical-align: middle;\n",
       "    }\n",
       "\n",
       "    .dataframe tbody tr th {\n",
       "        vertical-align: top;\n",
       "    }\n",
       "\n",
       "    .dataframe thead th {\n",
       "        text-align: right;\n",
       "    }\n",
       "</style>\n",
       "<table border=\"1\" class=\"dataframe\">\n",
       "  <thead>\n",
       "    <tr style=\"text-align: right;\">\n",
       "      <th></th>\n",
       "      <th>Sales_before_digital_add(in $)</th>\n",
       "      <th>Sales_After_digital_add(in $)</th>\n",
       "    </tr>\n",
       "  </thead>\n",
       "  <tbody>\n",
       "    <tr>\n",
       "      <th>count</th>\n",
       "      <td>22.000000</td>\n",
       "      <td>22.000000</td>\n",
       "    </tr>\n",
       "    <tr>\n",
       "      <th>mean</th>\n",
       "      <td>149239.954545</td>\n",
       "      <td>231123.727273</td>\n",
       "    </tr>\n",
       "    <tr>\n",
       "      <th>std</th>\n",
       "      <td>14844.042921</td>\n",
       "      <td>25556.777061</td>\n",
       "    </tr>\n",
       "    <tr>\n",
       "      <th>min</th>\n",
       "      <td>130263.000000</td>\n",
       "      <td>187305.000000</td>\n",
       "    </tr>\n",
       "    <tr>\n",
       "      <th>25%</th>\n",
       "      <td>138087.750000</td>\n",
       "      <td>214960.750000</td>\n",
       "    </tr>\n",
       "    <tr>\n",
       "      <th>50%</th>\n",
       "      <td>147444.000000</td>\n",
       "      <td>229986.500000</td>\n",
       "    </tr>\n",
       "    <tr>\n",
       "      <th>75%</th>\n",
       "      <td>157627.500000</td>\n",
       "      <td>250909.000000</td>\n",
       "    </tr>\n",
       "    <tr>\n",
       "      <th>max</th>\n",
       "      <td>178939.000000</td>\n",
       "      <td>276279.000000</td>\n",
       "    </tr>\n",
       "  </tbody>\n",
       "</table>\n",
       "</div>"
      ],
      "text/plain": [
       "       Sales_before_digital_add(in $)  Sales_After_digital_add(in $)\n",
       "count                       22.000000                      22.000000\n",
       "mean                    149239.954545                  231123.727273\n",
       "std                      14844.042921                   25556.777061\n",
       "min                     130263.000000                  187305.000000\n",
       "25%                     138087.750000                  214960.750000\n",
       "50%                     147444.000000                  229986.500000\n",
       "75%                     157627.500000                  250909.000000\n",
       "max                     178939.000000                  276279.000000"
      ]
     },
     "execution_count": 5,
     "metadata": {},
     "output_type": "execute_result"
    }
   ],
   "source": [
    "sales_data.describe()"
   ]
  },
  {
   "cell_type": "code",
   "execution_count": 6,
   "id": "004ec8ca",
   "metadata": {},
   "outputs": [
    {
     "name": "stdout",
     "output_type": "stream",
     "text": [
      "<class 'pandas.core.frame.DataFrame'>\n",
      "RangeIndex: 22 entries, 0 to 21\n",
      "Data columns (total 5 columns):\n",
      " #   Column                          Non-Null Count  Dtype \n",
      "---  ------                          --------------  ----- \n",
      " 0   Month                           22 non-null     object\n",
      " 1   Region                          22 non-null     object\n",
      " 2   Manager                         22 non-null     object\n",
      " 3   Sales_before_digital_add(in $)  22 non-null     int64 \n",
      " 4   Sales_After_digital_add(in $)   22 non-null     int64 \n",
      "dtypes: int64(2), object(3)\n",
      "memory usage: 1008.0+ bytes\n"
     ]
    }
   ],
   "source": [
    "sales_data.info()"
   ]
  },
  {
   "cell_type": "markdown",
   "id": "5b350cf4",
   "metadata": {},
   "source": [
    "#### Insights:\n",
    "    1.There are 22 rows and 5 columns\n",
    "    2.The average sales value have icreased from 149239.95$ to 231123.72$ after the introduction of digital marketing"
   ]
  },
  {
   "cell_type": "markdown",
   "id": "99243451",
   "metadata": {},
   "source": [
    "# Performing the case study as required by the company : "
   ]
  },
  {
   "cell_type": "markdown",
   "id": "fd7e7427",
   "metadata": {},
   "source": [
    "## Case 1 : `Whether there is any increase in sales after stepping into digital marketing.`"
   ]
  },
  {
   "cell_type": "markdown",
   "id": "7044604c",
   "metadata": {},
   "source": [
    "### The Sample size is less than 30 so we perform One tailed Paired Samples T-Test."
   ]
  },
  {
   "cell_type": "markdown",
   "id": "d8ce14dc",
   "metadata": {},
   "source": [
    "*STEP 1*\n",
    "\n",
    "We'll define the Null and Alternate Hypothesis. and set the Significance  level.\n",
    "\n",
    "* **Null Hypothesis** :\n",
    "> Ho : Sales After Digital Advertising will be `less than` **or** `equal` to the sales before Digital Advertising.\n",
    "* **Alternate Hypothesis** :\n",
    "> Ha : Sales After Digital Advertising will be `Greater than` the sales before usage of Digital Advertising.\n",
    "\n",
    "\n",
    "* The Confidence level for this test will be 95% & we'll set `the level of Significance` as alpha = **0.05.**"
   ]
  },
  {
   "cell_type": "code",
   "execution_count": 8,
   "id": "eb4e7028",
   "metadata": {},
   "outputs": [
    {
     "name": "stdout",
     "output_type": "stream",
     "text": [
      "The Test statistic scores are : \n",
      "t-score = 12.091 , p-value = 0.000 \n",
      "\n"
     ]
    }
   ],
   "source": [
    "# Extracting required features from Dataset and creating new variables.\n",
    "\n",
    "sales_before = sales_data[[\"Sales_before_digital_add(in $)\"]]\n",
    "\n",
    "sales_after = sales_data[[\"Sales_After_digital_add(in $)\"]]\n",
    "\n",
    "#  Conducting a 2 sample 1 tail T test:\n",
    "\n",
    "t_score, p = stats.ttest_rel(sales_after, sales_before, alternative=\"greater\")\n",
    "print(\"The Test statistic scores are : \\nt-score = %0.3f , p-value = %0.3f \\n\" % (t_score, p) )\n"
   ]
  },
  {
   "cell_type": "markdown",
   "id": "c5729ac7",
   "metadata": {},
   "source": [
    "> *The Degree of Freedom* is given by = n-1\n",
    "> * i.e. *The Degree of Freedom* = 22-1 = 21"
   ]
  },
  {
   "cell_type": "code",
   "execution_count": 9,
   "id": "2c0b4abe",
   "metadata": {},
   "outputs": [
    {
     "name": "stdout",
     "output_type": "stream",
     "text": [
      "\n",
      "We'll reject the Null Hypothesis\n",
      "\n",
      "\n"
     ]
    }
   ],
   "source": [
    "t_critical = 1.721 # t value for dof = 21 & alpha = 0.05\n",
    "\n",
    "if t_score > t_critical:\n",
    "    print(\"\\nWe'll reject the Null Hypothesis\\n\\n\")\n",
    "elif t_score <= t_critical:\n",
    "    print(\"\\nWe fail to reject the Null Hypothesis\\n\")"
   ]
  },
  {
   "cell_type": "markdown",
   "id": "c28703d5",
   "metadata": {},
   "source": [
    "\n",
    "**From the above Testing we can say the following about our Hypothesis:**\n",
    "    \n",
    "* As the `calculated t-score` > `critical t-score` value (i.e. at 5% or 0.05), We `Reject` the Null Hypothesis.\n",
    "* We can say that there is a significant increase in sales after doing Digital advertisements."
   ]
  },
  {
   "cell_type": "markdown",
   "id": "8b61e2b0",
   "metadata": {},
   "source": [
    "## Case 2 : `Checking whether there is any dependency between the features “Region” and “Manager”`"
   ]
  },
  {
   "cell_type": "markdown",
   "id": "fd697ccb",
   "metadata": {},
   "source": [
    "Assuming that:\n",
    "\n",
    "* **Null Hypothesis** :\n",
    "> Ho : There is NO significant dependency between the Region and the Manager features.\n",
    "* **Alternate Hypothesis** :\n",
    "> Ha : There is a significant amount of dependency between the Region and the Manager features.\n",
    "\n",
    "\n",
    "* The Confidence level for this test will be 95% & we'll set `the level of Significance` as alpha = **0.05.**"
   ]
  },
  {
   "cell_type": "code",
   "execution_count": 10,
   "id": "f342b52b",
   "metadata": {},
   "outputs": [
    {
     "data": {
      "text/html": [
       "<div>\n",
       "<style scoped>\n",
       "    .dataframe tbody tr th:only-of-type {\n",
       "        vertical-align: middle;\n",
       "    }\n",
       "\n",
       "    .dataframe tbody tr th {\n",
       "        vertical-align: top;\n",
       "    }\n",
       "\n",
       "    .dataframe thead th {\n",
       "        text-align: right;\n",
       "    }\n",
       "</style>\n",
       "<table border=\"1\" class=\"dataframe\">\n",
       "  <thead>\n",
       "    <tr style=\"text-align: right;\">\n",
       "      <th>Manager</th>\n",
       "      <th>Manager - A</th>\n",
       "      <th>Manager - B</th>\n",
       "      <th>Manager - C</th>\n",
       "    </tr>\n",
       "    <tr>\n",
       "      <th>Region</th>\n",
       "      <th></th>\n",
       "      <th></th>\n",
       "      <th></th>\n",
       "    </tr>\n",
       "  </thead>\n",
       "  <tbody>\n",
       "    <tr>\n",
       "      <th>Region - A</th>\n",
       "      <td>4</td>\n",
       "      <td>3</td>\n",
       "      <td>3</td>\n",
       "    </tr>\n",
       "    <tr>\n",
       "      <th>Region - B</th>\n",
       "      <td>4</td>\n",
       "      <td>1</td>\n",
       "      <td>2</td>\n",
       "    </tr>\n",
       "    <tr>\n",
       "      <th>Region - C</th>\n",
       "      <td>1</td>\n",
       "      <td>3</td>\n",
       "      <td>1</td>\n",
       "    </tr>\n",
       "  </tbody>\n",
       "</table>\n",
       "</div>"
      ],
      "text/plain": [
       "Manager     Manager - A  Manager - B  Manager - C\n",
       "Region                                           \n",
       "Region - A            4            3            3\n",
       "Region - B            4            1            2\n",
       "Region - C            1            3            1"
      ]
     },
     "execution_count": 10,
     "metadata": {},
     "output_type": "execute_result"
    }
   ],
   "source": [
    "# Extracting the Required Features, performing a crosstab on them and assigning it to a new variable\n",
    "data_crosstab = pd.crosstab(sales_data[\"Region\"],sales_data[\"Manager\"])\n",
    "data_crosstab"
   ]
  },
  {
   "cell_type": "code",
   "execution_count": 11,
   "id": "458ca64f",
   "metadata": {},
   "outputs": [
    {
     "name": "stdout",
     "output_type": "stream",
     "text": [
      "The Test chi-square value is :\t3.051\n",
      "\n",
      "The p-Value is :  \t0.549\n",
      "\n",
      "The Degree of freedom is : \t4\n",
      "\n",
      "\n",
      "We're unable to Reject the Null Hypothesis\n"
     ]
    }
   ],
   "source": [
    "stat, p, dof, expected = chi2_contingency(data_crosstab)\n",
    "\n",
    "print(f\"The Test chi-square value is :\\t{stat:.3f}\")\n",
    "print(f\"\\nThe p-Value is :  \\t{p:.3f}\" )\n",
    "print(f\"\\nThe Degree of freedom is : \\t{dof}\")\n",
    "\n",
    "chi2_critical = 9.488 # the chi2 value at alpha = 0.05 and dof = 4\n",
    "\n",
    "if stat > chi2_critical:\n",
    "    print(f\"We'll reject the Null Hypothesis\")\n",
    "elif stat < chi2_critical:\n",
    "    print (\"\\n\\nWe're unable to Reject the Null Hypothesis\")"
   ]
  },
  {
   "cell_type": "markdown",
   "id": "610bd922",
   "metadata": {},
   "source": [
    "**From the above Testing we can say the following about our Hypothesis:**"
   ]
  },
  {
   "cell_type": "markdown",
   "id": "ef8872c6",
   "metadata": {},
   "source": [
    "* The `calculated chi2` value < `Critical chi2` value at 0.05 significance level and the `calculated p-value` > `0.05`. We're `Unable` to reject Null Hypothesis.\n",
    " \n",
    " Hence,we can conclude that there is `no significant relationship` between the Region and Manager features."
   ]
  },
  {
   "cell_type": "markdown",
   "id": "085493ba",
   "metadata": {},
   "source": [
    "### Insights:\n",
    "> * 1. There was a significant amount of increase in sales generated after the company started investing in Digital Marketing.\n",
    "\n",
    "> * 2. There isn't a significant dependency between the Regions and the Managers associated with the regions   "
   ]
  },
  {
   "cell_type": "code",
   "execution_count": null,
   "id": "feaecd70",
   "metadata": {},
   "outputs": [],
   "source": []
  }
 ],
 "metadata": {
  "kernelspec": {
   "display_name": "Python 3 (ipykernel)",
   "language": "python",
   "name": "python3"
  },
  "language_info": {
   "codemirror_mode": {
    "name": "ipython",
    "version": 3
   },
   "file_extension": ".py",
   "mimetype": "text/x-python",
   "name": "python",
   "nbconvert_exporter": "python",
   "pygments_lexer": "ipython3",
   "version": "3.9.13"
  }
 },
 "nbformat": 4,
 "nbformat_minor": 5
}
