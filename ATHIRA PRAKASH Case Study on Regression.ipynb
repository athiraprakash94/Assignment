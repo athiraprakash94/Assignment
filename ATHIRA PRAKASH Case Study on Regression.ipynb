{
 "cells": [
  {
   "cell_type": "markdown",
   "id": "af4d7011",
   "metadata": {},
   "source": [
    "<h2 style='text-align: center;'> <font color='Green'><u>Case Study on Regression</u></font> </h2>"
   ]
  },
  {
   "cell_type": "markdown",
   "id": "fde6e125",
   "metadata": {},
   "source": [
    "The given dataset contains price of second-hand Hyundai grand i10 car with \n",
    "respect to year of making. Find the best linear relationship between year and \n",
    "price. Can you predict the possible price of a 2022 model second-hand grand i10?\n",
    "Please learn about lasso regression and create a model along with linear\n",
    "regression. Find out which one is performing better"
   ]
  },
  {
   "cell_type": "markdown",
   "id": "ffdf4c83",
   "metadata": {},
   "source": [
    "<h3 style='text-align: right;'> Submitted By:<font color='BLUE'>ATHIRA PRAKASH </font></h3>"
   ]
  },
  {
   "cell_type": "markdown",
   "id": "0db9d9e9",
   "metadata": {},
   "source": [
    "### Import the necessary libraries."
   ]
  },
  {
   "cell_type": "code",
   "execution_count": 42,
   "id": "a1ec428e",
   "metadata": {},
   "outputs": [],
   "source": [
    "import pandas as pd\n",
    "import numpy as np\n",
    "import matplotlib.pyplot as plt\n",
    "import seaborn as sns\n",
    "\n",
    "from sklearn.metrics import mean_squared_error,r2_score"
   ]
  },
  {
   "cell_type": "markdown",
   "id": "4bb024f0",
   "metadata": {},
   "source": [
    "### Read the data into a Pandas DataFrame."
   ]
  },
  {
   "cell_type": "code",
   "execution_count": 2,
   "id": "429924ea",
   "metadata": {},
   "outputs": [],
   "source": [
    "data = pd.read_csv(r\"D:\\DSA\\data\\car_age_price.csv\")"
   ]
  },
  {
   "cell_type": "code",
   "execution_count": 3,
   "id": "a114c5ab",
   "metadata": {},
   "outputs": [
    {
     "data": {
      "text/html": [
       "<div>\n",
       "<style scoped>\n",
       "    .dataframe tbody tr th:only-of-type {\n",
       "        vertical-align: middle;\n",
       "    }\n",
       "\n",
       "    .dataframe tbody tr th {\n",
       "        vertical-align: top;\n",
       "    }\n",
       "\n",
       "    .dataframe thead th {\n",
       "        text-align: right;\n",
       "    }\n",
       "</style>\n",
       "<table border=\"1\" class=\"dataframe\">\n",
       "  <thead>\n",
       "    <tr style=\"text-align: right;\">\n",
       "      <th></th>\n",
       "      <th>Year</th>\n",
       "      <th>Price</th>\n",
       "    </tr>\n",
       "  </thead>\n",
       "  <tbody>\n",
       "    <tr>\n",
       "      <th>0</th>\n",
       "      <td>2018</td>\n",
       "      <td>465000</td>\n",
       "    </tr>\n",
       "    <tr>\n",
       "      <th>1</th>\n",
       "      <td>2019</td>\n",
       "      <td>755000</td>\n",
       "    </tr>\n",
       "    <tr>\n",
       "      <th>2</th>\n",
       "      <td>2019</td>\n",
       "      <td>700000</td>\n",
       "    </tr>\n",
       "    <tr>\n",
       "      <th>3</th>\n",
       "      <td>2018</td>\n",
       "      <td>465000</td>\n",
       "    </tr>\n",
       "    <tr>\n",
       "      <th>4</th>\n",
       "      <td>2018</td>\n",
       "      <td>465000</td>\n",
       "    </tr>\n",
       "    <tr>\n",
       "      <th>...</th>\n",
       "      <td>...</td>\n",
       "      <td>...</td>\n",
       "    </tr>\n",
       "    <tr>\n",
       "      <th>107</th>\n",
       "      <td>2016</td>\n",
       "      <td>375000</td>\n",
       "    </tr>\n",
       "    <tr>\n",
       "      <th>108</th>\n",
       "      <td>2014</td>\n",
       "      <td>300000</td>\n",
       "    </tr>\n",
       "    <tr>\n",
       "      <th>109</th>\n",
       "      <td>2015</td>\n",
       "      <td>425000</td>\n",
       "    </tr>\n",
       "    <tr>\n",
       "      <th>110</th>\n",
       "      <td>2016</td>\n",
       "      <td>420000</td>\n",
       "    </tr>\n",
       "    <tr>\n",
       "      <th>111</th>\n",
       "      <td>2015</td>\n",
       "      <td>425000</td>\n",
       "    </tr>\n",
       "  </tbody>\n",
       "</table>\n",
       "<p>112 rows × 2 columns</p>\n",
       "</div>"
      ],
      "text/plain": [
       "     Year   Price\n",
       "0    2018  465000\n",
       "1    2019  755000\n",
       "2    2019  700000\n",
       "3    2018  465000\n",
       "4    2018  465000\n",
       "..    ...     ...\n",
       "107  2016  375000\n",
       "108  2014  300000\n",
       "109  2015  425000\n",
       "110  2016  420000\n",
       "111  2015  425000\n",
       "\n",
       "[112 rows x 2 columns]"
      ]
     },
     "execution_count": 3,
     "metadata": {},
     "output_type": "execute_result"
    }
   ],
   "source": [
    "data"
   ]
  },
  {
   "cell_type": "markdown",
   "id": "2e9f2f0c",
   "metadata": {},
   "source": [
    "### Explore the data"
   ]
  },
  {
   "cell_type": "code",
   "execution_count": 4,
   "id": "29e350b0",
   "metadata": {},
   "outputs": [
    {
     "data": {
      "text/html": [
       "<div>\n",
       "<style scoped>\n",
       "    .dataframe tbody tr th:only-of-type {\n",
       "        vertical-align: middle;\n",
       "    }\n",
       "\n",
       "    .dataframe tbody tr th {\n",
       "        vertical-align: top;\n",
       "    }\n",
       "\n",
       "    .dataframe thead th {\n",
       "        text-align: right;\n",
       "    }\n",
       "</style>\n",
       "<table border=\"1\" class=\"dataframe\">\n",
       "  <thead>\n",
       "    <tr style=\"text-align: right;\">\n",
       "      <th></th>\n",
       "      <th>Year</th>\n",
       "      <th>Price</th>\n",
       "    </tr>\n",
       "  </thead>\n",
       "  <tbody>\n",
       "    <tr>\n",
       "      <th>0</th>\n",
       "      <td>2018</td>\n",
       "      <td>465000</td>\n",
       "    </tr>\n",
       "    <tr>\n",
       "      <th>1</th>\n",
       "      <td>2019</td>\n",
       "      <td>755000</td>\n",
       "    </tr>\n",
       "    <tr>\n",
       "      <th>2</th>\n",
       "      <td>2019</td>\n",
       "      <td>700000</td>\n",
       "    </tr>\n",
       "    <tr>\n",
       "      <th>3</th>\n",
       "      <td>2018</td>\n",
       "      <td>465000</td>\n",
       "    </tr>\n",
       "    <tr>\n",
       "      <th>4</th>\n",
       "      <td>2018</td>\n",
       "      <td>465000</td>\n",
       "    </tr>\n",
       "  </tbody>\n",
       "</table>\n",
       "</div>"
      ],
      "text/plain": [
       "   Year   Price\n",
       "0  2018  465000\n",
       "1  2019  755000\n",
       "2  2019  700000\n",
       "3  2018  465000\n",
       "4  2018  465000"
      ]
     },
     "execution_count": 4,
     "metadata": {},
     "output_type": "execute_result"
    }
   ],
   "source": [
    "data.head()\n",
    "#This will show you the first five rows of the data."
   ]
  },
  {
   "cell_type": "code",
   "execution_count": 6,
   "id": "e7444585",
   "metadata": {},
   "outputs": [
    {
     "data": {
      "text/plain": [
       "(112, 2)"
      ]
     },
     "execution_count": 6,
     "metadata": {},
     "output_type": "execute_result"
    }
   ],
   "source": [
    "data.shape"
   ]
  },
  {
   "cell_type": "code",
   "execution_count": 7,
   "id": "57577ffc",
   "metadata": {},
   "outputs": [
    {
     "name": "stdout",
     "output_type": "stream",
     "text": [
      "<class 'pandas.core.frame.DataFrame'>\n",
      "RangeIndex: 112 entries, 0 to 111\n",
      "Data columns (total 2 columns):\n",
      " #   Column  Non-Null Count  Dtype\n",
      "---  ------  --------------  -----\n",
      " 0   Year    112 non-null    int64\n",
      " 1   Price   112 non-null    int64\n",
      "dtypes: int64(2)\n",
      "memory usage: 1.9 KB\n"
     ]
    }
   ],
   "source": [
    "data.info()"
   ]
  },
  {
   "cell_type": "code",
   "execution_count": 8,
   "id": "baf9382c",
   "metadata": {},
   "outputs": [
    {
     "data": {
      "text/html": [
       "<div>\n",
       "<style scoped>\n",
       "    .dataframe tbody tr th:only-of-type {\n",
       "        vertical-align: middle;\n",
       "    }\n",
       "\n",
       "    .dataframe tbody tr th {\n",
       "        vertical-align: top;\n",
       "    }\n",
       "\n",
       "    .dataframe thead th {\n",
       "        text-align: right;\n",
       "    }\n",
       "</style>\n",
       "<table border=\"1\" class=\"dataframe\">\n",
       "  <thead>\n",
       "    <tr style=\"text-align: right;\">\n",
       "      <th></th>\n",
       "      <th>Year</th>\n",
       "      <th>Price</th>\n",
       "    </tr>\n",
       "  </thead>\n",
       "  <tbody>\n",
       "    <tr>\n",
       "      <th>count</th>\n",
       "      <td>112.000000</td>\n",
       "      <td>112.000000</td>\n",
       "    </tr>\n",
       "    <tr>\n",
       "      <th>mean</th>\n",
       "      <td>2016.669643</td>\n",
       "      <td>483866.044643</td>\n",
       "    </tr>\n",
       "    <tr>\n",
       "      <th>std</th>\n",
       "      <td>1.629616</td>\n",
       "      <td>91217.450533</td>\n",
       "    </tr>\n",
       "    <tr>\n",
       "      <th>min</th>\n",
       "      <td>2013.000000</td>\n",
       "      <td>300000.000000</td>\n",
       "    </tr>\n",
       "    <tr>\n",
       "      <th>25%</th>\n",
       "      <td>2015.000000</td>\n",
       "      <td>423750.000000</td>\n",
       "    </tr>\n",
       "    <tr>\n",
       "      <th>50%</th>\n",
       "      <td>2017.000000</td>\n",
       "      <td>500000.000000</td>\n",
       "    </tr>\n",
       "    <tr>\n",
       "      <th>75%</th>\n",
       "      <td>2017.000000</td>\n",
       "      <td>550000.000000</td>\n",
       "    </tr>\n",
       "    <tr>\n",
       "      <th>max</th>\n",
       "      <td>2020.000000</td>\n",
       "      <td>755000.000000</td>\n",
       "    </tr>\n",
       "  </tbody>\n",
       "</table>\n",
       "</div>"
      ],
      "text/plain": [
       "              Year          Price\n",
       "count   112.000000     112.000000\n",
       "mean   2016.669643  483866.044643\n",
       "std       1.629616   91217.450533\n",
       "min    2013.000000  300000.000000\n",
       "25%    2015.000000  423750.000000\n",
       "50%    2017.000000  500000.000000\n",
       "75%    2017.000000  550000.000000\n",
       "max    2020.000000  755000.000000"
      ]
     },
     "execution_count": 8,
     "metadata": {},
     "output_type": "execute_result"
    }
   ],
   "source": [
    "data.describe()"
   ]
  },
  {
   "cell_type": "markdown",
   "id": "53e5c398",
   "metadata": {},
   "source": [
    "Check Missing Values"
   ]
  },
  {
   "cell_type": "code",
   "execution_count": 9,
   "id": "f5ebcd70",
   "metadata": {},
   "outputs": [
    {
     "data": {
      "text/plain": [
       "Year     0\n",
       "Price    0\n",
       "dtype: int64"
      ]
     },
     "execution_count": 9,
     "metadata": {},
     "output_type": "execute_result"
    }
   ],
   "source": [
    "data.isnull().sum()"
   ]
  },
  {
   "cell_type": "markdown",
   "id": "85935157",
   "metadata": {},
   "source": [
    "### Check Duplicates"
   ]
  },
  {
   "cell_type": "code",
   "execution_count": 17,
   "id": "a23a627d",
   "metadata": {},
   "outputs": [
    {
     "data": {
      "text/plain": [
       "54"
      ]
     },
     "execution_count": 17,
     "metadata": {},
     "output_type": "execute_result"
    }
   ],
   "source": [
    "data.duplicated().sum()"
   ]
  },
  {
   "cell_type": "code",
   "execution_count": 18,
   "id": "cf94fc1d",
   "metadata": {},
   "outputs": [],
   "source": [
    "data=data.drop_duplicates()"
   ]
  },
  {
   "cell_type": "code",
   "execution_count": 19,
   "id": "400b7f61",
   "metadata": {},
   "outputs": [
    {
     "data": {
      "text/plain": [
       "(58, 2)"
      ]
     },
     "execution_count": 19,
     "metadata": {},
     "output_type": "execute_result"
    }
   ],
   "source": [
    "data.shape"
   ]
  },
  {
   "cell_type": "markdown",
   "id": "8df566de",
   "metadata": {},
   "source": [
    "### Outliers checking"
   ]
  },
  {
   "cell_type": "code",
   "execution_count": 36,
   "id": "f8177351",
   "metadata": {},
   "outputs": [
    {
     "data": {
      "image/png": "[encoded data removed]",
      "text/plain": [
       "<Figure size 640x480 with 1 Axes>"
      ]
     },
     "metadata": {},
     "output_type": "display_data"
    }
   ],
   "source": [
    "data.boxplot('Price')\n",
    "plt.show()"
   ]
  },
  {
   "cell_type": "code",
   "execution_count": 38,
   "id": "5b6879fb",
   "metadata": {},
   "outputs": [
    {
     "data": {
      "image/png": "[encoded data removed]",
      "text/plain": [
       "<Figure size 640x480 with 1 Axes>"
      ]
     },
     "metadata": {},
     "output_type": "display_data"
    }
   ],
   "source": [
    "data.boxplot('Year')\n",
    "plt.show()"
   ]
  },
  {
   "cell_type": "markdown",
   "id": "61860ac1",
   "metadata": {},
   "source": [
    "### Split the data into training and test sets"
   ]
  },
  {
   "cell_type": "code",
   "execution_count": 20,
   "id": "a0e5ad24",
   "metadata": {},
   "outputs": [],
   "source": [
    "X=data.drop('Price',axis=1)\n",
    "y=data['Price']"
   ]
  },
  {
   "cell_type": "code",
   "execution_count": 21,
   "id": "8e53fa7e",
   "metadata": {},
   "outputs": [],
   "source": [
    "from sklearn.model_selection import train_test_split"
   ]
  },
  {
   "cell_type": "code",
   "execution_count": 22,
   "id": "0632b9d5",
   "metadata": {},
   "outputs": [],
   "source": [
    "X_train,X_test,y_train,y_test=train_test_split(X,y,test_size=0.2,random_state=42)"
   ]
  },
  {
   "cell_type": "code",
   "execution_count": 23,
   "id": "8fa9a999",
   "metadata": {},
   "outputs": [
    {
     "data": {
      "text/plain": [
       "(     Year\n",
       " 68   2015\n",
       " 60   2015\n",
       " 11   2018\n",
       " 38   2018\n",
       " 8    2017\n",
       " 6    2016\n",
       " 77   2015\n",
       " 40   2019\n",
       " 59   2016\n",
       " 98   2020\n",
       " 99   2020\n",
       " 107  2016\n",
       " 34   2017\n",
       " 12   2017\n",
       " 54   2017\n",
       " 52   2013\n",
       " 37   2017\n",
       " 49   2018\n",
       " 63   2017\n",
       " 108  2014\n",
       " 73   2013\n",
       " 14   2017\n",
       " 61   2017\n",
       " 109  2015\n",
       " 80   2015\n",
       " 58   2014\n",
       " 104  2014\n",
       " 1    2019\n",
       " 43   2019\n",
       " 2    2019\n",
       " 83   2017\n",
       " 71   2017\n",
       " 67   2015\n",
       " 48   2016\n",
       " 86   2017\n",
       " 13   2019\n",
       " 45   2018\n",
       " 39   2020\n",
       " 110  2016\n",
       " 42   2018\n",
       " 10   2019\n",
       " 78   2015\n",
       " 30   2019\n",
       " 56   2014\n",
       " 100  2016\n",
       " 70   2015,\n",
       "      Year\n",
       " 0    2018\n",
       " 7    2017\n",
       " 65   2017\n",
       " 22   2015\n",
       " 81   2014\n",
       " 103  2017\n",
       " 69   2015\n",
       " 50   2013\n",
       " 85   2015\n",
       " 17   2017\n",
       " 97   2020\n",
       " 5    2015)"
      ]
     },
     "execution_count": 23,
     "metadata": {},
     "output_type": "execute_result"
    }
   ],
   "source": [
    "X_train,X_test"
   ]
  },
  {
   "cell_type": "code",
   "execution_count": 24,
   "id": "2d4ed773",
   "metadata": {},
   "outputs": [
    {
     "data": {
      "text/plain": [
       "(68     465000\n",
       " 60     490000\n",
       " 11     500000\n",
       " 38     475000\n",
       " 8      509999\n",
       " 6      425000\n",
       " 77     325000\n",
       " 40     525000\n",
       " 59     550000\n",
       " 98     700000\n",
       " 99     600000\n",
       " 107    375000\n",
       " 34     450000\n",
       " 12     500000\n",
       " 54     525000\n",
       " 52     345000\n",
       " 37     486000\n",
       " 49     600000\n",
       " 63     595000\n",
       " 108    300000\n",
       " 73     320000\n",
       " 14     475000\n",
       " 61     540000\n",
       " 109    425000\n",
       " 80     390000\n",
       " 58     450000\n",
       " 104    400000\n",
       " 1      755000\n",
       " 43     550000\n",
       " 2      700000\n",
       " 83     480000\n",
       " 71     490000\n",
       " 67     400000\n",
       " 48     396000\n",
       " 86     520000\n",
       " 13     600000\n",
       " 45     450000\n",
       " 39     545000\n",
       " 110    420000\n",
       " 42     550000\n",
       " 10     500000\n",
       " 78     409999\n",
       " 30     650000\n",
       " 56     341000\n",
       " 100    350000\n",
       " 70     450000\n",
       " Name: Price, dtype: int64,\n",
       " 0      465000\n",
       " 7      575000\n",
       " 65     495000\n",
       " 22     434999\n",
       " 81     390000\n",
       " 103    375000\n",
       " 69     300000\n",
       " 50     325000\n",
       " 85     320000\n",
       " 17     550000\n",
       " 97     640000\n",
       " 5      350000\n",
       " Name: Price, dtype: int64)"
      ]
     },
     "execution_count": 24,
     "metadata": {},
     "output_type": "execute_result"
    }
   ],
   "source": [
    "y_train,y_test"
   ]
  },
  {
   "cell_type": "markdown",
   "id": "9b945690",
   "metadata": {},
   "source": [
    "### Linear Regression Model"
   ]
  },
  {
   "cell_type": "code",
   "execution_count": 25,
   "id": "83ae6adc",
   "metadata": {},
   "outputs": [],
   "source": [
    "from sklearn.linear_model import LinearRegression"
   ]
  },
  {
   "cell_type": "code",
   "execution_count": 26,
   "id": "a5292cc8",
   "metadata": {},
   "outputs": [],
   "source": [
    "lr=LinearRegression()"
   ]
  },
  {
   "cell_type": "code",
   "execution_count": 45,
   "id": "a2743213",
   "metadata": {},
   "outputs": [],
   "source": [
    "#Create a linear regression model\n",
    "lr_model = lr.fit(X_train, y_train)"
   ]
  },
  {
   "cell_type": "code",
   "execution_count": 46,
   "id": "181688d4",
   "metadata": {},
   "outputs": [],
   "source": [
    "# Predict the Price values for the test set using the linear regression model\n",
    "y_pred_lin=lr_model.predict(X_test)"
   ]
  },
  {
   "cell_type": "code",
   "execution_count": 40,
   "id": "98da2c86",
   "metadata": {},
   "outputs": [
    {
     "data": {
      "text/plain": [
       "(array([541975.77419354, 498094.31397849, 498094.31397849, 410331.39354838,\n",
       "        366449.93333334, 498094.31397849, 410331.39354838, 322568.47311828,\n",
       "        410331.39354838, 498094.31397849, 629738.69462365, 410331.39354838]),\n",
       " 0      465000\n",
       " 7      575000\n",
       " 65     495000\n",
       " 22     434999\n",
       " 81     390000\n",
       " 103    375000\n",
       " 69     300000\n",
       " 50     325000\n",
       " 85     320000\n",
       " 17     550000\n",
       " 97     640000\n",
       " 5      350000\n",
       " Name: Price, dtype: int64)"
      ]
     },
     "execution_count": 40,
     "metadata": {},
     "output_type": "execute_result"
    }
   ],
   "source": [
    "y_pred_lin,y_test"
   ]
  },
  {
   "cell_type": "code",
   "execution_count": 47,
   "id": "84c3d116",
   "metadata": {},
   "outputs": [],
   "source": [
    "# Calculate the error metrics for the linear regression model\n",
    "rmse_lin = np.sqrt(mean_squared_error(y_test, y_pred_lin))\n",
    "r2_lin = r2_score(y_test, y_pred_lin)"
   ]
  },
  {
   "cell_type": "code",
   "execution_count": 44,
   "id": "0ce52a08",
   "metadata": {},
   "outputs": [
    {
     "name": "stdout",
     "output_type": "stream",
     "text": [
      "Linear Regression:\n",
      "RMSE: 67665.04315289702\n",
      "R^2: 0.5952655854274035\n"
     ]
    }
   ],
   "source": [
    "# Print the error metrics\n",
    "print('Linear Regression:')\n",
    "print('RMSE:', rmse_lin)\n",
    "print('R^2:', r2_lin)"
   ]
  },
  {
   "cell_type": "markdown",
   "id": "cf6f2a4b",
   "metadata": {},
   "source": [
    "### Lasso Regression Model"
   ]
  },
  {
   "cell_type": "code",
   "execution_count": 48,
   "id": "8310aa80",
   "metadata": {},
   "outputs": [],
   "source": [
    "from sklearn.linear_model import Lasso"
   ]
  },
  {
   "cell_type": "code",
   "execution_count": 49,
   "id": "bbd536f9",
   "metadata": {},
   "outputs": [
    {
     "data": {
      "text/plain": [
       "Lasso()"
      ]
     },
     "execution_count": 49,
     "metadata": {},
     "output_type": "execute_result"
    }
   ],
   "source": [
    "# Create a lasso model\n",
    "lasso = Lasso()\n",
    "lasso.fit(X_train, y_train)"
   ]
  },
  {
   "cell_type": "code",
   "execution_count": 50,
   "id": "aba31bc2",
   "metadata": {},
   "outputs": [],
   "source": [
    "# Predict the mpg values for the test set using the lasso model\n",
    "y_pred_lasso = lasso.predict(X_test)"
   ]
  },
  {
   "cell_type": "code",
   "execution_count": 51,
   "id": "c18b77f7",
   "metadata": {},
   "outputs": [],
   "source": [
    "# Calculate the error metrics for the lasso model\n",
    "rmse_lasso = np.sqrt(mean_squared_error(y_test, y_pred_lasso))\n",
    "r2_lasso = r2_score(y_test, y_pred_lasso)"
   ]
  },
  {
   "cell_type": "code",
   "execution_count": 52,
   "id": "60aa1e5d",
   "metadata": {},
   "outputs": [
    {
     "name": "stdout",
     "output_type": "stream",
     "text": [
      "Lasso Regression:\n",
      "RMSE: 67665.13512102436\n",
      "R^2: 0.5952644852229334\n"
     ]
    }
   ],
   "source": [
    "# Print the error metrics\n",
    "\n",
    "print('Lasso Regression:')\n",
    "print('RMSE:', rmse_lasso)\n",
    "print('R^2:', r2_lasso)"
   ]
  },
  {
   "cell_type": "markdown",
   "id": "c602b200",
   "metadata": {},
   "source": [
    "### INSIGHTS: The RMSE and R^2 values for both models are the same. This means that both models are equally good at fitting the data. Therefore, it is difficult to say which model is better at predicting the price of a 2022 model second-hand grand i10."
   ]
  },
  {
   "cell_type": "code",
   "execution_count": 60,
   "id": "bcb5d75c",
   "metadata": {},
   "outputs": [],
   "source": [
    "# Predict the price of a 2022 model second-hand grand i10 using the linear regression model\n",
    "x_2022=pd.DataFrame({'Year':[2022]})\n",
    "y_pred_lin = lr_model.predict(x_2022)"
   ]
  },
  {
   "cell_type": "code",
   "execution_count": 65,
   "id": "6b7f16e9",
   "metadata": {},
   "outputs": [],
   "source": [
    "y_pred_lin=np.round(y_pred_lin,2)"
   ]
  },
  {
   "cell_type": "code",
   "execution_count": 73,
   "id": "d7a0ecda",
   "metadata": {},
   "outputs": [
    {
     "name": "stdout",
     "output_type": "stream",
     "text": [
      "Predicted price: using linear regression model is ₹  [717501.62]\n"
     ]
    }
   ],
   "source": [
    "print('Predicted price: using linear regression model is', '₹ ',y_pred_lin)"
   ]
  },
  {
   "cell_type": "code",
   "execution_count": 70,
   "id": "e46ccf15",
   "metadata": {},
   "outputs": [],
   "source": [
    "# Predict the price of a 2022 model second-hand grand i10 using the lasso regression model\n",
    "x_2022=pd.DataFrame({'Year':[2022]})\n",
    "y_pred_lasso = lasso.predict(x_2022)"
   ]
  },
  {
   "cell_type": "code",
   "execution_count": 71,
   "id": "1d0e908a",
   "metadata": {},
   "outputs": [],
   "source": [
    "y_pred_lasso=np.round(y_pred_lasso,2)"
   ]
  },
  {
   "cell_type": "code",
   "execution_count": 74,
   "id": "f667a398",
   "metadata": {},
   "outputs": [
    {
     "name": "stdout",
     "output_type": "stream",
     "text": [
      "Predicted price: using lassoregression model is  ₹  [717500.11]\n"
     ]
    }
   ],
   "source": [
    "print('Predicted price: using lassoregression model is ', '₹ ',y_pred_lasso)"
   ]
  },
  {
   "cell_type": "code",
   "execution_count": null,
   "id": "6afe2669",
   "metadata": {},
   "outputs": [],
   "source": []
  }
 ],
 "metadata": {
  "kernelspec": {
   "display_name": "Python 3 (ipykernel)",
   "language": "python",
   "name": "python3"
  },
  "language_info": {
   "codemirror_mode": {
    "name": "ipython",
    "version": 3
   },
   "file_extension": ".py",
   "mimetype": "text/x-python",
   "name": "python",
   "nbconvert_exporter": "python",
   "pygments_lexer": "ipython3",
   "version": "3.9.13"
  }
 },
 "nbformat": 4,
 "nbformat_minor": 5
}
